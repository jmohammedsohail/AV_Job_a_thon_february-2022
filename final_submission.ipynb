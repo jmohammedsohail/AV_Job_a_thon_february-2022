{
 "cells": [
  {
   "cell_type": "code",
   "execution_count": 1,
   "id": "2ab6a246",
   "metadata": {},
   "outputs": [],
   "source": [
    "import numpy as np\n",
    "import pandas as pd\n",
    "import seaborn as sns\n",
    "import matplotlib.pyplot as plt\n",
    "from sklearn.metrics import mean_squared_error, r2_score,mean_squared_log_error,mean_absolute_error\n",
    "from sklearn.preprocessing import LabelEncoder\n",
    "from sklearn.model_selection import train_test_split\n",
    "\n",
    "from xgboost import XGBRegressor\n",
    "\n",
    "from sklearn.model_selection import GridSearchCV\n",
    "from sklearn.model_selection import RandomizedSearchCV\n",
    "from sklearn.model_selection import KFold\n",
    "from sklearn.ensemble import RandomForestRegressor"
   ]
  },
  {
   "cell_type": "code",
   "execution_count": 2,
   "id": "7dfe3436",
   "metadata": {},
   "outputs": [],
   "source": [
    "train = pd.read_csv('train.csv')\n",
    "test  = pd.read_csv('test.csv')"
   ]
  },
  {
   "cell_type": "code",
   "execution_count": 3,
   "id": "5d3cd978",
   "metadata": {},
   "outputs": [
    {
     "name": "stdout",
     "output_type": "stream",
     "text": [
      "<class 'pandas.core.frame.DataFrame'>\n",
      "RangeIndex: 89197 entries, 0 to 89196\n",
      "Data columns (total 10 columns):\n",
      " #   Column            Non-Null Count  Dtype  \n",
      "---  ------            --------------  -----  \n",
      " 0   row_id            89197 non-null  int64  \n",
      " 1   user_id           89197 non-null  int64  \n",
      " 2   category_id       89197 non-null  int64  \n",
      " 3   video_id          89197 non-null  int64  \n",
      " 4   age               89197 non-null  int64  \n",
      " 5   gender            89197 non-null  object \n",
      " 6   profession        89197 non-null  object \n",
      " 7   followers         89197 non-null  int64  \n",
      " 8   views             89197 non-null  int64  \n",
      " 9   engagement_score  89197 non-null  float64\n",
      "dtypes: float64(1), int64(7), object(2)\n",
      "memory usage: 6.8+ MB\n"
     ]
    }
   ],
   "source": [
    "train.info()"
   ]
  },
  {
   "cell_type": "code",
   "execution_count": 4,
   "id": "64041074",
   "metadata": {},
   "outputs": [
    {
     "data": {
      "text/plain": [
       "(89197, 10)"
      ]
     },
     "execution_count": 4,
     "metadata": {},
     "output_type": "execute_result"
    }
   ],
   "source": [
    "train.shape"
   ]
  },
  {
   "cell_type": "code",
   "execution_count": 5,
   "id": "6811a07e",
   "metadata": {},
   "outputs": [
    {
     "name": "stdout",
     "output_type": "stream",
     "text": [
      "<class 'pandas.core.frame.DataFrame'>\n",
      "RangeIndex: 89197 entries, 0 to 89196\n",
      "Data columns (total 10 columns):\n",
      " #   Column            Non-Null Count  Dtype  \n",
      "---  ------            --------------  -----  \n",
      " 0   row_id            89197 non-null  int64  \n",
      " 1   user_id           89197 non-null  int64  \n",
      " 2   category_id       89197 non-null  int64  \n",
      " 3   video_id          89197 non-null  int64  \n",
      " 4   age               89197 non-null  int64  \n",
      " 5   gender            89197 non-null  object \n",
      " 6   profession        89197 non-null  object \n",
      " 7   followers         89197 non-null  int64  \n",
      " 8   views             89197 non-null  int64  \n",
      " 9   engagement_score  89197 non-null  float64\n",
      "dtypes: float64(1), int64(7), object(2)\n",
      "memory usage: 6.8+ MB\n"
     ]
    }
   ],
   "source": [
    "train.info()  #no null values"
   ]
  },
  {
   "cell_type": "code",
   "execution_count": 6,
   "id": "3e8410bc",
   "metadata": {},
   "outputs": [
    {
     "data": {
      "text/plain": [
       "(11121, 9)"
      ]
     },
     "execution_count": 6,
     "metadata": {},
     "output_type": "execute_result"
    }
   ],
   "source": [
    "test.shape"
   ]
  },
  {
   "cell_type": "code",
   "execution_count": 7,
   "id": "6f7d3495",
   "metadata": {},
   "outputs": [
    {
     "name": "stdout",
     "output_type": "stream",
     "text": [
      "The categorical cols are:  ['gender', 'profession']\n",
      "The numeric cols are: ['row_id', 'user_id', 'category_id', 'video_id', 'age', 'followers', 'views']\n",
      "The target cols are: ['engagement_score']\n"
     ]
    }
   ],
   "source": [
    "# Segregating categorical and numeric columns\n",
    "\n",
    "categorical_cols = []\n",
    "numeric_cols = []\n",
    "for col in train.columns:\n",
    "#     print(col)\n",
    "    if train[col].dtype == 'object':\n",
    "#         print(col, train_data[col].dtype)\n",
    "        categorical_cols.append(col)\n",
    "    elif col == 'engagement_score':\n",
    "        target_col = ['engagement_score']\n",
    "    else:\n",
    "        numeric_cols.append(col)\n",
    "print('The categorical cols are: ', categorical_cols)\n",
    "print('The numeric cols are:', numeric_cols)\n",
    "print('The target cols are:', target_col)\n"
   ]
  },
  {
   "cell_type": "code",
   "execution_count": 8,
   "id": "7f2a2946",
   "metadata": {},
   "outputs": [
    {
     "name": "stdout",
     "output_type": "stream",
     "text": [
      "Column: gender\n",
      "Male      52397\n",
      "Female    36800\n",
      "Name: gender, dtype: int64\n",
      "Column: profession\n",
      "Student                 44638\n",
      "Other                   26840\n",
      "Working Professional    17719\n",
      "Name: profession, dtype: int64\n"
     ]
    }
   ],
   "source": [
    "# Getting the count distribution of different categorical variables.\n",
    "\n",
    "for col in categorical_cols:\n",
    "    print('Column:', col)\n",
    "    print(train[col].value_counts())"
   ]
  },
  {
   "cell_type": "markdown",
   "id": "6e60deff",
   "metadata": {},
   "source": [
    "# Encode categorical features:-"
   ]
  },
  {
   "cell_type": "code",
   "execution_count": 9,
   "id": "497ddef4",
   "metadata": {},
   "outputs": [],
   "source": [
    "for i in categorical_cols:\n",
    "    le = LabelEncoder()\n",
    "    train[i]=le.fit_transform(train[i])\n",
    "    test[i]=le.transform(test[i])"
   ]
  },
  {
   "cell_type": "code",
   "execution_count": 10,
   "id": "d4b29740",
   "metadata": {},
   "outputs": [
    {
     "data": {
      "text/plain": [
       "engagement_score    1.000000\n",
       "gender              0.408702\n",
       "followers           0.000855\n",
       "user_id            -0.002900\n",
       "row_id             -0.003368\n",
       "video_id           -0.030552\n",
       "profession         -0.049821\n",
       "views              -0.084679\n",
       "category_id        -0.094288\n",
       "age                -0.232626\n",
       "Name: engagement_score, dtype: float64"
      ]
     },
     "execution_count": 10,
     "metadata": {},
     "output_type": "execute_result"
    }
   ],
   "source": [
    "train.corr()['engagement_score'].sort_values(ascending= False) #checking correlation"
   ]
  },
  {
   "cell_type": "code",
   "execution_count": 11,
   "id": "a0ffc390",
   "metadata": {},
   "outputs": [
    {
     "data": {
      "text/html": [
       "<div>\n",
       "<style scoped>\n",
       "    .dataframe tbody tr th:only-of-type {\n",
       "        vertical-align: middle;\n",
       "    }\n",
       "\n",
       "    .dataframe tbody tr th {\n",
       "        vertical-align: top;\n",
       "    }\n",
       "\n",
       "    .dataframe thead th {\n",
       "        text-align: right;\n",
       "    }\n",
       "</style>\n",
       "<table border=\"1\" class=\"dataframe\">\n",
       "  <thead>\n",
       "    <tr style=\"text-align: right;\">\n",
       "      <th></th>\n",
       "      <th>engagement_score</th>\n",
       "    </tr>\n",
       "  </thead>\n",
       "  <tbody>\n",
       "    <tr>\n",
       "      <th>0</th>\n",
       "      <td>4.33</td>\n",
       "    </tr>\n",
       "    <tr>\n",
       "      <th>1</th>\n",
       "      <td>1.79</td>\n",
       "    </tr>\n",
       "    <tr>\n",
       "      <th>2</th>\n",
       "      <td>4.35</td>\n",
       "    </tr>\n",
       "    <tr>\n",
       "      <th>3</th>\n",
       "      <td>3.77</td>\n",
       "    </tr>\n",
       "    <tr>\n",
       "      <th>4</th>\n",
       "      <td>3.13</td>\n",
       "    </tr>\n",
       "    <tr>\n",
       "      <th>...</th>\n",
       "      <td>...</td>\n",
       "    </tr>\n",
       "    <tr>\n",
       "      <th>89192</th>\n",
       "      <td>3.91</td>\n",
       "    </tr>\n",
       "    <tr>\n",
       "      <th>89193</th>\n",
       "      <td>3.56</td>\n",
       "    </tr>\n",
       "    <tr>\n",
       "      <th>89194</th>\n",
       "      <td>4.23</td>\n",
       "    </tr>\n",
       "    <tr>\n",
       "      <th>89195</th>\n",
       "      <td>3.77</td>\n",
       "    </tr>\n",
       "    <tr>\n",
       "      <th>89196</th>\n",
       "      <td>4.31</td>\n",
       "    </tr>\n",
       "  </tbody>\n",
       "</table>\n",
       "<p>89197 rows × 1 columns</p>\n",
       "</div>"
      ],
      "text/plain": [
       "       engagement_score\n",
       "0                  4.33\n",
       "1                  1.79\n",
       "2                  4.35\n",
       "3                  3.77\n",
       "4                  3.13\n",
       "...                 ...\n",
       "89192              3.91\n",
       "89193              3.56\n",
       "89194              4.23\n",
       "89195              3.77\n",
       "89196              4.31\n",
       "\n",
       "[89197 rows x 1 columns]"
      ]
     },
     "execution_count": 11,
     "metadata": {},
     "output_type": "execute_result"
    }
   ],
   "source": [
    "#Splitting the dataset into train test and validation.\n",
    "# \n",
    "y = train[target_col]\n",
    "y"
   ]
  },
  {
   "cell_type": "code",
   "execution_count": null,
   "id": "4fbda4d9",
   "metadata": {},
   "outputs": [],
   "source": [
    "# dropping 'row_id' column as rules"
   ]
  },
  {
   "cell_type": "code",
   "execution_count": 12,
   "id": "c6bcda71",
   "metadata": {},
   "outputs": [],
   "source": [
    "X = train.drop(columns=['engagement_score', 'row_id'],axis=1)"
   ]
  },
  {
   "cell_type": "code",
   "execution_count": 13,
   "id": "2f61de67",
   "metadata": {},
   "outputs": [],
   "source": [
    "X_test = test.drop('row_id', axis=1)"
   ]
  },
  {
   "cell_type": "code",
   "execution_count": null,
   "id": "dcccb14b",
   "metadata": {},
   "outputs": [],
   "source": [
    "# Splitting to training and testing data"
   ]
  },
  {
   "cell_type": "code",
   "execution_count": 16,
   "id": "9d9a5a02",
   "metadata": {},
   "outputs": [],
   "source": [
    "X_train, X_valid, y_train, y_valid = train_test_split(X, y, test_size=0.2,\n",
    "                                                            random_state=42)"
   ]
  },
  {
   "cell_type": "code",
   "execution_count": 17,
   "id": "62f78e1b",
   "metadata": {},
   "outputs": [
    {
     "data": {
      "text/plain": [
       "((71357, 8), (17840, 8), (71357, 1), (17840, 1))"
      ]
     },
     "execution_count": 17,
     "metadata": {},
     "output_type": "execute_result"
    }
   ],
   "source": [
    "X_train.shape, X_valid.shape, y_train.shape, y_valid.shape"
   ]
  },
  {
   "cell_type": "code",
   "execution_count": 18,
   "id": "a62342ff",
   "metadata": {},
   "outputs": [
    {
     "data": {
      "text/html": [
       "<div>\n",
       "<style scoped>\n",
       "    .dataframe tbody tr th:only-of-type {\n",
       "        vertical-align: middle;\n",
       "    }\n",
       "\n",
       "    .dataframe tbody tr th {\n",
       "        vertical-align: top;\n",
       "    }\n",
       "\n",
       "    .dataframe thead th {\n",
       "        text-align: right;\n",
       "    }\n",
       "</style>\n",
       "<table border=\"1\" class=\"dataframe\">\n",
       "  <thead>\n",
       "    <tr style=\"text-align: right;\">\n",
       "      <th></th>\n",
       "      <th>user_id</th>\n",
       "      <th>category_id</th>\n",
       "      <th>video_id</th>\n",
       "      <th>age</th>\n",
       "      <th>gender</th>\n",
       "      <th>profession</th>\n",
       "      <th>followers</th>\n",
       "      <th>views</th>\n",
       "    </tr>\n",
       "  </thead>\n",
       "  <tbody>\n",
       "    <tr>\n",
       "      <th>78167</th>\n",
       "      <td>2351</td>\n",
       "      <td>18</td>\n",
       "      <td>58</td>\n",
       "      <td>19</td>\n",
       "      <td>1</td>\n",
       "      <td>1</td>\n",
       "      <td>180</td>\n",
       "      <td>444</td>\n",
       "    </tr>\n",
       "    <tr>\n",
       "      <th>34090</th>\n",
       "      <td>17171</td>\n",
       "      <td>8</td>\n",
       "      <td>67</td>\n",
       "      <td>31</td>\n",
       "      <td>1</td>\n",
       "      <td>0</td>\n",
       "      <td>280</td>\n",
       "      <td>628</td>\n",
       "    </tr>\n",
       "    <tr>\n",
       "      <th>78320</th>\n",
       "      <td>4511</td>\n",
       "      <td>4</td>\n",
       "      <td>99</td>\n",
       "      <td>31</td>\n",
       "      <td>1</td>\n",
       "      <td>0</td>\n",
       "      <td>230</td>\n",
       "      <td>781</td>\n",
       "    </tr>\n",
       "    <tr>\n",
       "      <th>26288</th>\n",
       "      <td>21389</td>\n",
       "      <td>11</td>\n",
       "      <td>22</td>\n",
       "      <td>37</td>\n",
       "      <td>0</td>\n",
       "      <td>2</td>\n",
       "      <td>250</td>\n",
       "      <td>180</td>\n",
       "    </tr>\n",
       "    <tr>\n",
       "      <th>38994</th>\n",
       "      <td>21395</td>\n",
       "      <td>5</td>\n",
       "      <td>109</td>\n",
       "      <td>33</td>\n",
       "      <td>1</td>\n",
       "      <td>2</td>\n",
       "      <td>240</td>\n",
       "      <td>229</td>\n",
       "    </tr>\n",
       "  </tbody>\n",
       "</table>\n",
       "</div>"
      ],
      "text/plain": [
       "       user_id  category_id  video_id  age  gender  profession  followers  \\\n",
       "78167     2351           18        58   19       1           1        180   \n",
       "34090    17171            8        67   31       1           0        280   \n",
       "78320     4511            4        99   31       1           0        230   \n",
       "26288    21389           11        22   37       0           2        250   \n",
       "38994    21395            5       109   33       1           2        240   \n",
       "\n",
       "       views  \n",
       "78167    444  \n",
       "34090    628  \n",
       "78320    781  \n",
       "26288    180  \n",
       "38994    229  "
      ]
     },
     "execution_count": 18,
     "metadata": {},
     "output_type": "execute_result"
    }
   ],
   "source": [
    "X_train.head()"
   ]
  },
  {
   "cell_type": "markdown",
   "id": "7f3c5a45",
   "metadata": {},
   "source": [
    "# Model:-"
   ]
  },
  {
   "cell_type": "code",
   "execution_count": null,
   "id": "54a89a38",
   "metadata": {},
   "outputs": [],
   "source": [
    "import xgboost as xgb"
   ]
  },
  {
   "cell_type": "code",
   "execution_count": null,
   "id": "2bbd01bc",
   "metadata": {},
   "outputs": [
    {
     "name": "stdout",
     "output_type": "stream",
     "text": [
      "Fitting 5 folds for each of 25 candidates, totalling 125 fits\n"
     ]
    }
   ],
   "source": [
    "# Number of trees in random forest\n",
    "n_estimators = [int(x) for x in np.linspace(start = 200, stop = 2000, num = 10)]\n",
    "# Maximum number of levels in tree\n",
    "max_depth = [int(x) for x in np.linspace(10, 110, num = 11)]\n",
    "max_depth.append(None)\n",
    "\n",
    "# Create the params\n",
    "params = { 'max_depth': max_depth,\n",
    "           'learning_rate': [0.01, 0.1, 0.2, 0.3],\n",
    "           'subsample': np.arange(0.5, 1.0, 0.1),\n",
    "           'colsample_bytree': np.arange(0.4, 1.0, 0.1),\n",
    "           'colsample_bylevel': np.arange(0.4, 1.0, 0.1),\n",
    "           'n_estimators': n_estimators}\n",
    "xgbr = xgb.XGBRegressor(seed = 20)\n",
    "xgb_rcv = RandomizedSearchCV(estimator=xgbr,\n",
    "                         param_distributions=params,\n",
    "                         scoring='neg_mean_squared_error',\n",
    "                         n_iter=25,\n",
    "                         verbose=1)\n",
    "xgb_rcv.fit(X, y)"
   ]
  },
  {
   "cell_type": "code",
   "execution_count": 141,
   "id": "b937c043",
   "metadata": {},
   "outputs": [
    {
     "name": "stdout",
     "output_type": "stream",
     "text": [
      "Best parameters: {'subsample': 0.8999999999999999, 'n_estimators': 800, 'min_samples_split': 2, 'min_samples_leaf': 4, 'max_features': 'sqrt', 'max_depth': 10, 'learning_rate': 0.01, 'bootstrap': True}\n",
      "-0.4539080413669886\n"
     ]
    }
   ],
   "source": [
    "print(\"Best parameters:\", xgb_rcv.best_params_)\n",
    "\n",
    "print(\"Lowest RMSE: \", (-xgb_rcv.best_score_)**(1/2.0))"
   ]
  },
  {
   "cell_type": "code",
   "execution_count": 142,
   "id": "71fa4421",
   "metadata": {},
   "outputs": [
    {
     "data": {
      "text/plain": [
       "array([3.1192436, 3.5351958, 3.4986644, ..., 2.8230906, 4.584946 ,\n",
       "       3.328687 ], dtype=float32)"
      ]
     },
     "execution_count": 142,
     "metadata": {},
     "output_type": "execute_result"
    }
   ],
   "source": [
    "# Model prediction on train data\n",
    "y_pred = xgb_rcv.predict(X_train)\n",
    "y_pred\n"
   ]
  },
  {
   "cell_type": "code",
   "execution_count": 143,
   "id": "1fc6cdc2",
   "metadata": {},
   "outputs": [
    {
     "data": {
      "text/plain": [
       "array([4.1567364, 3.4421568, 2.806923 , ..., 3.3249047, 3.785227 ,\n",
       "       3.1787293], dtype=float32)"
      ]
     },
     "execution_count": 143,
     "metadata": {},
     "output_type": "execute_result"
    }
   ],
   "source": [
    "# predict on the test set\n",
    "pred = xgb_rcv.predict(X_test)\n",
    "\n",
    "pred"
   ]
  },
  {
   "cell_type": "code",
   "execution_count": 144,
   "id": "dcd0d5bf",
   "metadata": {},
   "outputs": [
    {
     "name": "stdout",
     "output_type": "stream",
     "text": [
      "R^2:              0.8786556502292476\n",
      "Adjusted R^2:     0.8786420443146016\n",
      "MAE:              0.22009363530889414\n",
      "MSE:              0.09017666729110854\n",
      "RMSE:             0.30029430112992245\n"
     ]
    }
   ],
   "source": [
    "# Model Evaluation\n",
    "print('R^2:             ',r2_score(y_train, y_pred))\n",
    "print('Adjusted R^2:    ',1 - (1-r2_score(y_train, y_pred))*(len(y_train)-1)/(len(y_train)-X_train.shape[1]-1))\n",
    "print('MAE:             ',mean_absolute_error(y_train,y_pred))\n",
    "print('MSE:             ',mean_squared_error(y_train, y_pred))\n",
    "print('RMSE:            ',np.sqrt(mean_squared_error(y_train, y_pred)))"
   ]
  },
  {
   "cell_type": "markdown",
   "id": "886a02e3",
   "metadata": {},
   "source": [
    "# Submission:-"
   ]
  },
  {
   "cell_type": "code",
   "execution_count": 145,
   "id": "20b2b71e",
   "metadata": {},
   "outputs": [
    {
     "data": {
      "text/html": [
       "<div>\n",
       "<style scoped>\n",
       "    .dataframe tbody tr th:only-of-type {\n",
       "        vertical-align: middle;\n",
       "    }\n",
       "\n",
       "    .dataframe tbody tr th {\n",
       "        vertical-align: top;\n",
       "    }\n",
       "\n",
       "    .dataframe thead th {\n",
       "        text-align: right;\n",
       "    }\n",
       "</style>\n",
       "<table border=\"1\" class=\"dataframe\">\n",
       "  <thead>\n",
       "    <tr style=\"text-align: right;\">\n",
       "      <th></th>\n",
       "      <th>row_id</th>\n",
       "      <th>engagement_score</th>\n",
       "    </tr>\n",
       "  </thead>\n",
       "  <tbody>\n",
       "    <tr>\n",
       "      <th>0</th>\n",
       "      <td>89198</td>\n",
       "      <td>4.156736</td>\n",
       "    </tr>\n",
       "    <tr>\n",
       "      <th>1</th>\n",
       "      <td>89199</td>\n",
       "      <td>3.442157</td>\n",
       "    </tr>\n",
       "    <tr>\n",
       "      <th>2</th>\n",
       "      <td>89200</td>\n",
       "      <td>2.806923</td>\n",
       "    </tr>\n",
       "    <tr>\n",
       "      <th>3</th>\n",
       "      <td>89201</td>\n",
       "      <td>3.591595</td>\n",
       "    </tr>\n",
       "    <tr>\n",
       "      <th>4</th>\n",
       "      <td>89202</td>\n",
       "      <td>2.127187</td>\n",
       "    </tr>\n",
       "    <tr>\n",
       "      <th>...</th>\n",
       "      <td>...</td>\n",
       "      <td>...</td>\n",
       "    </tr>\n",
       "    <tr>\n",
       "      <th>11116</th>\n",
       "      <td>100314</td>\n",
       "      <td>3.352441</td>\n",
       "    </tr>\n",
       "    <tr>\n",
       "      <th>11117</th>\n",
       "      <td>100315</td>\n",
       "      <td>3.105995</td>\n",
       "    </tr>\n",
       "    <tr>\n",
       "      <th>11118</th>\n",
       "      <td>100316</td>\n",
       "      <td>3.324905</td>\n",
       "    </tr>\n",
       "    <tr>\n",
       "      <th>11119</th>\n",
       "      <td>100317</td>\n",
       "      <td>3.785227</td>\n",
       "    </tr>\n",
       "    <tr>\n",
       "      <th>11120</th>\n",
       "      <td>100318</td>\n",
       "      <td>3.178729</td>\n",
       "    </tr>\n",
       "  </tbody>\n",
       "</table>\n",
       "<p>11121 rows × 2 columns</p>\n",
       "</div>"
      ],
      "text/plain": [
       "       row_id  engagement_score\n",
       "0       89198          4.156736\n",
       "1       89199          3.442157\n",
       "2       89200          2.806923\n",
       "3       89201          3.591595\n",
       "4       89202          2.127187\n",
       "...       ...               ...\n",
       "11116  100314          3.352441\n",
       "11117  100315          3.105995\n",
       "11118  100316          3.324905\n",
       "11119  100317          3.785227\n",
       "11120  100318          3.178729\n",
       "\n",
       "[11121 rows x 2 columns]"
      ]
     },
     "execution_count": 145,
     "metadata": {},
     "output_type": "execute_result"
    }
   ],
   "source": [
    "submission= pd.DataFrame(columns=['row_id','engagement_score'])\n",
    "submission\n",
    "\n",
    "submission['row_id'] = test['row_id']\n",
    "\n",
    "submission\n",
    "\n",
    "submission['engagement_score'] = pred\n",
    "\n",
    "submission\n",
    "\n",
    "\n",
    "#creating the submission csv file\n",
    "submission.to_csv('submission.csv', index=False)\n",
    "submission"
   ]
  },
  {
   "cell_type": "code",
   "execution_count": 14,
   "id": "2bd8007b",
   "metadata": {},
   "outputs": [],
   "source": []
  },
  {
   "cell_type": "code",
   "execution_count": null,
   "id": "3cd2df31",
   "metadata": {},
   "outputs": [],
   "source": []
  }
 ],
 "metadata": {
  "kernelspec": {
   "display_name": "Python 3",
   "language": "python",
   "name": "python3"
  },
  "language_info": {
   "codemirror_mode": {
    "name": "ipython",
    "version": 3
   },
   "file_extension": ".py",
   "mimetype": "text/x-python",
   "name": "python",
   "nbconvert_exporter": "python",
   "pygments_lexer": "ipython3",
   "version": "3.8.8"
  }
 },
 "nbformat": 4,
 "nbformat_minor": 5
}
